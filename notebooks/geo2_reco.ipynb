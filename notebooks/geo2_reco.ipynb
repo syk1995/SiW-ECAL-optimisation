{
 "cells": [
  {
   "cell_type": "code",
   "execution_count": null,
   "id": "a714295b",
   "metadata": {},
   "outputs": [],
   "source": [
    "import matplotlib.pyplot as plt\n",
    "from scipy.interpolate import UnivariateSpline\n",
    "import numpy as np\n",
    "import matplotlib as plt\n",
    "from sum_E_geometry_2.py import get_mean_hits_vs_energy"
   ]
  },
  {
   "cell_type": "code",
   "execution_count": null,
   "id": "f39ada29",
   "metadata": {},
   "outputs": [],
   "source": [
    "energies = [0.05, 0.1, 0.15, 0.2, 0.25, 0.5, 0.75, 1.0, 2.0, 5.0, 10.0, 20.0, 30.0, 40.0, 60.0]\n",
    "file_pattern = \"/grid_mnt/vol_home/llr/ilc/shi/data/SiWECAL-Prototype/Simu2025-06/CONF0/e-/MC/{}GeV.root\"\n",
    "\n",
    "\n",
    "energies, mean_hits = get_mean_hits_vs_energy(energies, file_pattern)\n",
    "\n",
    "valid = ~np.isnan(mean_hits)\n",
    "if np.count_nonzero(valid) < 2:\n",
    "    print(\"Not enough valid data points for fitting.\")\n",
    "else:\n",
    "    # Fit smoothing spline (adjust s for smoothness)\n",
    "    spline = UnivariateSpline(mean_hits[valid], energies[valid], s=1.0)\n",
    "\n",
    "    # Example: reconstruct energy for 100 hits\n",
    "    reco_energy_100 = spline(100)\n",
    "    print(f\"Reconstructed energy for 100 hits: {reco_energy_100:.2f} GeV\")\n",
    "\n",
    "    # Plot data and spline fit\n",
    "    plt.scatter(mean_hits[valid], energies[valid], label=\"Data points\")\n",
    "    xs = np.linspace(min(mean_hits[valid]), max(mean_hits[valid]), 500)\n",
    "    plt.plot(xs, spline(xs), label=\"Smoothing spline\", color=\"red\")\n",
    "    plt.xlabel(\"Mean number of hits\")\n",
    "    plt.ylabel(\"Beam energy (GeV)\")\n",
    "    plt.legend()\n",
    "    plt.title(\"Energy vs Number of Hits\")\n",
    "    plt.grid(True)\n",
    "    plt.show()\n"
   ]
  }
 ],
 "metadata": {
  "language_info": {
   "name": "python"
  }
 },
 "nbformat": 4,
 "nbformat_minor": 5
}
